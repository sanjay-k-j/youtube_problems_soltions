{
 "cells": [
  {
   "cell_type": "code",
   "execution_count": 9,
   "metadata": {},
   "outputs": [
    {
     "name": "stdout",
     "output_type": "stream",
     "text": [
      "4, 2 values of l[j] and l[j+1]\n",
      "2, 4 values of l[j] and l[j+1]\n",
      "4, 1 values of l[j] and l[j+1]\n",
      "1, 4 values of l[j] and l[j+1]\n",
      "6, 0 values of l[j] and l[j+1]\n",
      "0, 6 values of l[j] and l[j+1]\n",
      "2, 1 values of l[j] and l[j+1]\n",
      "1, 2 values of l[j] and l[j+1]\n",
      "4, 0 values of l[j] and l[j+1]\n",
      "0, 4 values of l[j] and l[j+1]\n",
      "2, 0 values of l[j] and l[j+1]\n",
      "0, 2 values of l[j] and l[j+1]\n",
      "1, 0 values of l[j] and l[j+1]\n",
      "0, 1 values of l[j] and l[j+1]\n",
      "[0, 1, 2, 4, 6]\n"
     ]
    }
   ],
   "source": [
    "def bubble_sort (l):\n",
    "    # temp = 0\n",
    "    for i in range(len(l)):\n",
    "        for j in range(len(l) - i - 1): \n",
    "            if l[j] > l [j+1]:\n",
    "                print(f\"{l[j]}, {l[j+1]} values of l[j] and l[j+1]\")\n",
    "                # temp = l[j]\n",
    "                # l[j] = l[j+1]\n",
    "                # l[j+1] = temp\n",
    "                l[j], l[j+1] = l[j+1], l[j]\n",
    "                print(f\"{l[j]}, {l[j+1]} values of l[j] and l[j+1]\")\n",
    "    return l\n",
    "\n",
    "lis = list(map(int,input(\"Enter the list : \").split()))\n",
    "\n",
    "sorted_lis = bubble_sort(lis)\n",
    "\n",
    "print(sorted_lis)"
   ]
  },
  {
   "cell_type": "code",
   "execution_count": 5,
   "metadata": {},
   "outputs": [
    {
     "name": "stdout",
     "output_type": "stream",
     "text": [
      "0\n",
      "1\n",
      "2\n",
      "3\n",
      "4\n"
     ]
    }
   ],
   "source": [
    "for i in range(5):\n",
    "    print(i)"
   ]
  }
 ],
 "metadata": {
  "kernelspec": {
   "display_name": "Python 3",
   "language": "python",
   "name": "python3"
  },
  "language_info": {
   "codemirror_mode": {
    "name": "ipython",
    "version": 3
   },
   "file_extension": ".py",
   "mimetype": "text/x-python",
   "name": "python",
   "nbconvert_exporter": "python",
   "pygments_lexer": "ipython3",
   "version": "3.12.1"
  }
 },
 "nbformat": 4,
 "nbformat_minor": 2
}
